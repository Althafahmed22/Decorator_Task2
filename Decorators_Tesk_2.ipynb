{
 "cells": [
  {
   "cell_type": "markdown",
   "id": "91b4b074-f187-4c79-9971-503496b227dd",
   "metadata": {},
   "source": [
    "1. Explain how decorators and closures are related. Can a decorator be implemented without using closures? Why or why not?"
   ]
  },
  {
   "cell_type": "code",
   "execution_count": null,
   "id": "a46eafe3-8fa8-4feb-8457-27295f7e8f52",
   "metadata": {},
   "outputs": [],
   "source": [
    "Decorators and closures are closely related because decorators often use closures to modify or extend the behavior of functions. A closure is a function\n",
    "that remembers the variables from its outer scope, allowing the decorator to retain access to the original function even after it's been passed to the \n",
    "decorator.\n",
    "While closures are the most common way to implement decorators, they are not strictly necessary. Decorators can also be implemented using classes, where \n",
    "the class manages the function modification, but closures provide a simpler and more flexible approach. So, yes, a decorator can be implemented without \n",
    "closures, but closures are preferred for their simplicity."
   ]
  },
  {
   "cell_type": "code",
   "execution_count": null,
   "id": "9402c8ea-3f81-4e72-9302-6360d5bd9937",
   "metadata": {},
   "outputs": [],
   "source": [
    "#2. How do you create a parameterized decorator? Write a decorator that takes an argument specifying how many times to retry a function upon failure."
   ]
  },
  {
   "cell_type": "code",
   "execution_count": 133,
   "id": "45254ca7-ab10-419c-a379-d86601bbf46c",
   "metadata": {},
   "outputs": [
    {
     "name": "stdout",
     "output_type": "stream",
     "text": [
      "Generated number: 0.21309668745556665\n",
      "Attempt 1 failed: Random failure\n",
      "Generated number: 0.8660107935911896\n"
     ]
    },
    {
     "data": {
      "text/plain": [
       "'Success!'"
      ]
     },
     "execution_count": 133,
     "metadata": {},
     "output_type": "execute_result"
    }
   ],
   "source": [
    "def retry(retries):\n",
    "    def decorator(func):\n",
    "        def wrapper():\n",
    "            for attempt in range(1, retries + 1):\n",
    "                try:\n",
    "                    return func()  # Call the original function\n",
    "                except Exception as e:\n",
    "                    print(f\"Attempt {attempt} failed: {e}\")\n",
    "                    if attempt == retries:\n",
    "                        raise Exception(\"Function failed after maximum retries\")\n",
    "        return wrapper\n",
    "    return decorator\n",
    "@retry(retries=10)\n",
    "def unstable_function():\n",
    "    import random\n",
    "    number = random.random()\n",
    "    print(f\"Generated number: {number}\")\n",
    "    if number < 0.7:\n",
    "        raise ValueError(\"Random failure\")\n",
    "    return \"Success!\"\n",
    " \n",
    "unstable_function()"
   ]
  },
  {
   "cell_type": "code",
   "execution_count": 93,
   "id": "98c32b4a-6242-45b7-9024-3f4e16f8dbad",
   "metadata": {},
   "outputs": [],
   "source": [
    "#3. Write a simple decorator that prints the execution of a function."
   ]
  },
  {
   "cell_type": "code",
   "execution_count": 105,
   "id": "b5b77452-33b8-4164-b930-b49c76dc7015",
   "metadata": {},
   "outputs": [
    {
     "name": "stdout",
     "output_type": "stream",
     "text": [
      "2.0\n"
     ]
    }
   ],
   "source": [
    "\n",
    "def decorator(x): #outer function\n",
    "    def wrapper(a, b):#wrapper function takes parameter \n",
    "        if a < b:  # Ensure 'a' >= 'b' for division\n",
    "            a, b = b, a\n",
    "        return x(a, b)  # Call the original function\n",
    "    return wrapper\n",
    "\n",
    "@decorator  # Apply the decorator\n",
    "def division(a, b):\n",
    "    return a / b  # Perform division\n",
    "\n",
    "result = division(5, 10)  # Call the decorated function\n",
    "print(result)  # Output: 2.0"
   ]
  },
  {
   "cell_type": "code",
   "execution_count": null,
   "id": "b3a6406f-eb93-4c35-aa11-76a6503c2d9f",
   "metadata": {},
   "outputs": [],
   "source": [
    "#4. Create a decorator call_counter that tracks how many times a function is called. Use it with a function say_hello that prints \"Hello!\".\n"
   ]
  },
  {
   "cell_type": "code",
   "execution_count": 107,
   "id": "fa93bd5b-165b-448f-81b0-40b7798efeca",
   "metadata": {},
   "outputs": [
    {
     "name": "stdout",
     "output_type": "stream",
     "text": [
      "function called 1 times\n",
      "Hello\n",
      "function called 2 times\n",
      "Hello\n"
     ]
    }
   ],
   "source": [
    "# Decorator to count how many times a function is called\n",
    "def call_counter(x):\n",
    "    c = 0  # Initialize call counter\n",
    "    def wrapper():\n",
    "        nonlocal c  # Allow modifying the counter\n",
    "        c = c + 1  # Increment the counter\n",
    "        print(f\"function called {c} times\")  # Print the call count\n",
    "        x()  # Call the original function\n",
    "    return wrapper  # Return the wrapper function\n",
    "# Apply the call_counter decorator to the main function\n",
    "@call_counter\n",
    "def main():\n",
    "    print(\"Hello\")  # Function output\n",
    "# Call the decorated main function twice\n",
    "main()\n",
    "main()"
   ]
  },
  {
   "cell_type": "code",
   "execution_count": 69,
   "id": "8ebba0d0-9812-498c-b7b6-2f5c14867598",
   "metadata": {},
   "outputs": [],
   "source": [
    "#5. Write a decorator double_result that doubles the result of the decorated function. Use it with a function add that adds two numbers."
   ]
  },
  {
   "cell_type": "code",
   "execution_count": 113,
   "id": "05223c8c-8091-4ec7-a9f2-b994a6122249",
   "metadata": {},
   "outputs": [
    {
     "name": "stdout",
     "output_type": "stream",
     "text": [
      "240\n",
      "60\n"
     ]
    }
   ],
   "source": [
    "# Define the decorator to double the result\n",
    "def double_result(x):\n",
    "    def wrapper(a, b):\n",
    "        # Double the result of the original function\n",
    "        result = x(a, b) * 2 \n",
    "        return result\n",
    "    return wrapper\n",
    "# Apply the decorator to the add function\n",
    "@double_result\n",
    "def add(a, b):\n",
    "    return a + b  # Add two numbers\n",
    "# Call the decorated add function\n",
    "print(add(100, 20))  # Output: 240 \n",
    "print(add(10, 20))   # Output: 60\n"
   ]
  },
  {
   "cell_type": "code",
   "execution_count": null,
   "id": "ff10c19a-c248-427a-abb2-4f0721764871",
   "metadata": {},
   "outputs": [],
   "source": [
    "#6. What happens when multiple decorators are applied to a single function?"
   ]
  },
  {
   "cell_type": "code",
   "execution_count": 137,
   "id": "7b6031ef-f3b1-4a4f-818d-5745fbb2f95e",
   "metadata": {},
   "outputs": [
    {
     "data": {
      "text/plain": [
       "'iam in main iam in 1 \"iam in 2'"
      ]
     },
     "execution_count": 137,
     "metadata": {},
     "output_type": "execute_result"
    }
   ],
   "source": [
    "'''When multiple decorators are applied to a single function, they work in a nested way. The decorator that is closest to the function \n",
    "is applied first, wrapping the function, and then the next decorator wraps the result of the previous one, and so on. During execution\n",
    "the outermost decorator runs first, and control moves inward towards the original function. This creates a layered effect where each decorator\n",
    "adds its behaviour. The order in which decorators are applied is from bottom to top as they are listed, but their execution happens in the \n",
    "reverse order.'''\n",
    "# Decorator_1 adds \"iam in 1\" to the result of the wrapped function\n",
    "def decorator_1(x):  # Decorator 1\n",
    "    def wrapper():\n",
    "        return f'{x()} iam in 1'  # Modify the result\n",
    "    return wrapper\n",
    "\n",
    "# Decorator_2 adds \"iam in 2\" to the result of the wrapped function\n",
    "def decorator_2(x):  # Decorator 2\n",
    "    def wrapper():\n",
    "        return f'{x()} \"iam in 2'  # Modify the result\n",
    "    return wrapper \n",
    "\n",
    "# Apply both decorators to main\n",
    "@decorator_2  # decorator_2 wraps the result of decorator_1(main)\n",
    "@decorator_1  # decorator_1 wraps main()\n",
    "def main():\n",
    "    return \"iam in main\"  # Original output\n",
    "\n",
    "main()  # Call the decorated main function\n"
   ]
  },
  {
   "cell_type": "code",
   "execution_count": 33,
   "id": "5f3fef4b-9455-4354-a25b-000a357ee2c8",
   "metadata": {},
   "outputs": [],
   "source": [
    "\n",
    "#7.  What are some common use cases for decorators?"
   ]
  },
  {
   "cell_type": "code",
   "execution_count": null,
   "id": "9d0814eb-1ff8-4e9c-93f5-c9cd90291825",
   "metadata": {},
   "outputs": [],
   "source": [
    "Here are the common use cases for decorators in normal case:\n",
    "1 track function calls and results.\n",
    "2 verify user permissions before execution.\n",
    "3 store results of expensive computations for reuse.\n",
    "4 ensure arguments meet specific criteria.\n",
    "5 measure and analyze execution time.\n"
   ]
  },
  {
   "cell_type": "code",
   "execution_count": 127,
   "id": "63233c1b-187f-4cc6-adf1-e9aea925c055",
   "metadata": {},
   "outputs": [
    {
     "data": {
      "text/plain": [
       "'iam in main iam in 1 \"iam in 2'"
      ]
     },
     "execution_count": 127,
     "metadata": {},
     "output_type": "execute_result"
    }
   ],
   "source": [
    "\n",
    "   "
   ]
  },
  {
   "cell_type": "code",
   "execution_count": null,
   "id": "af0742df-f654-4325-bbbe-978576a54c2f",
   "metadata": {},
   "outputs": [],
   "source": []
  }
 ],
 "metadata": {
  "kernelspec": {
   "display_name": "Python 3 (ipykernel)",
   "language": "python",
   "name": "python3"
  },
  "language_info": {
   "codemirror_mode": {
    "name": "ipython",
    "version": 3
   },
   "file_extension": ".py",
   "mimetype": "text/x-python",
   "name": "python",
   "nbconvert_exporter": "python",
   "pygments_lexer": "ipython3",
   "version": "3.12.4"
  }
 },
 "nbformat": 4,
 "nbformat_minor": 5
}
